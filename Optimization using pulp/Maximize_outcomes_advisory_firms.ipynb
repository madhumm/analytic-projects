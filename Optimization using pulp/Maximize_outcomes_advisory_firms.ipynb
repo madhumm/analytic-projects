{
 "cells": [
  {
   "cell_type": "code",
   "execution_count": 8,
   "metadata": {},
   "outputs": [
    {
     "name": "stdout",
     "output_type": "stream",
     "text": [
      "Status: Optimal\n",
      "x_A---1.0\n",
      "x_B---1.0\n",
      "x_C---0.0\n",
      "x_D---0.0\n",
      "x_E---0.0\n",
      "x_F---0.0\n",
      "x_G---1.0\n"
     ]
    }
   ],
   "source": [
    "from pulp import *\n",
    "advisors = ['A','B','C','D','E', 'F', 'G']\n",
    "\n",
    "# arbitrary weight score for each advisory, the objective is to talk to as many advisors as possible which increases max score.\n",
    "advisory_weight      = dict( zip( advisors, [100, 80, 10, 30, 75, 90, 100] ) )\n",
    "advisory_cost      = dict( zip( advisors, [10, 20, 80, 90, 100, 100, 100] ) )\n",
    "\n",
    "n           = len( advisors )\n",
    "tw = 10 \n",
    "max_cost_per_allowed = 200\n",
    "\n",
    "x     = pulp.LpVariable.dicts( \"x\", indexs = advisors, cat='Binary', indexStart=[] )\n",
    "prob  = pulp.LpProblem( \"Minimalist_example\", pulp.LpMaximize )\n",
    "prob += pulp.lpSum( [ x[i]*advisory_weight[i] for i in advisors ]  ), \" Objective is maximize overall weightage  \"\n",
    "prob += pulp.lpSum( [ x[i]*advisory_weight[i] for i in advisors ] ) >= 50 # minimum advisory weight to use is 50. \n",
    "prob += pulp.lpSum( [ x[i]*advisory_cost[i] for i in advisors ] ) >= 0\n",
    "prob += pulp.lpSum( [ x[i]*advisory_cost[i] for i in advisors ] ) <=  max_cost_per_allowed\n",
    "              \n",
    "prob.solve()\n",
    "\n",
    "print(\"Status:\", LpStatus[prob.status])\n",
    "\n",
    "     \n",
    "for v in prob.variables():    \n",
    "    print(v.name +\"---\"+str(v.varValue))         "
   ]
  },
  {
   "cell_type": "code",
   "execution_count": null,
   "metadata": {},
   "outputs": [],
   "source": []
  }
 ],
 "metadata": {
  "kernelspec": {
   "display_name": "Python 3",
   "language": "python",
   "name": "python3"
  },
  "language_info": {
   "codemirror_mode": {
    "name": "ipython",
    "version": 3
   },
   "file_extension": ".py",
   "mimetype": "text/x-python",
   "name": "python",
   "nbconvert_exporter": "python",
   "pygments_lexer": "ipython3",
   "version": "3.7.6"
  }
 },
 "nbformat": 4,
 "nbformat_minor": 4
}
